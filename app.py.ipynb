{
 "cells": [
  {
   "cell_type": "code",
   "execution_count": 1,
   "id": "832a5c94-c2a1-4b36-a1e2-65ce69ef7b5e",
   "metadata": {},
   "outputs": [
    {
     "name": "stderr",
     "output_type": "stream",
     "text": [
      "2025-04-20 18:48:29.104 WARNING streamlit.runtime.caching.cache_data_api: No runtime found, using MemoryCacheStorageManager\n",
      "2025-04-20 18:48:29.106 WARNING streamlit.runtime.caching.cache_data_api: No runtime found, using MemoryCacheStorageManager\n",
      "2025-04-20 18:48:29.387 \n",
      "  \u001b[33m\u001b[1mWarning:\u001b[0m to view this Streamlit app on a browser, run it with the following\n",
      "  command:\n",
      "\n",
      "    streamlit run C:\\Users\\user\\anaconda3\\Lib\\site-packages\\ipykernel_launcher.py [ARGUMENTS]\n",
      "2025-04-20 18:48:29.388 No runtime found, using MemoryCacheStorageManager\n",
      "2025-04-20 18:48:29.976 No runtime found, using MemoryCacheStorageManager\n"
     ]
    }
   ],
   "source": [
    "import streamlit as st\n",
    "import pandas as pd\n",
    "from sklearn.feature_extraction.text import TfidfVectorizer\n",
    "from sklearn.metrics.pairwise import cosine_similarity\n",
    "\n",
    "# Load data\n",
    "@st.cache_data\n",
    "def load_data():\n",
    "    df = pd.read_csv(\"spotify_millsongdata.csv\")\n",
    "    df = df.sample(1000, random_state=42).reset_index(drop=True)\n",
    "    df.dropna(subset=['text'], inplace=True)\n",
    "    df['song_clean'] = df['song'].str.lower().str.strip()\n",
    "    return df\n",
    "\n",
    "# TF-IDF processing\n",
    "@st.cache_data\n",
    "def compute_tfidf(df):\n",
    "    vectorizer = TfidfVectorizer(stop_words='english', max_features=5000)\n",
    "    tfidf_matrix = vectorizer.fit_transform(df['text'])\n",
    "    return tfidf_matrix\n",
    "\n",
    "# Recommendation function\n",
    "def get_recommendations(title_input, df, tfidf_matrix):\n",
    "    title_input = title_input.lower().strip()\n",
    "    matched_songs = df[df['song_clean'].str.contains(title_input)]\n",
    "\n",
    "    if matched_songs.empty:\n",
    "        st.warning(f\"❌ No songs found matching '{title_input}'. Try another title.\")\n",
    "        return None\n",
    "\n",
    "    if len(matched_songs) > 1:\n",
    "        st.info(\"🎯 Multiple songs found. Please choose:\")\n",
    "        song_options = [f\"{i}: {row['song']} by {row['artist']}\" for i, row in matched_songs.iterrows()]\n",
    "        selected = st.selectbox(\"Select a song:\", song_options)\n",
    "        choice = int(selected.split(\":\")[0])\n",
    "    else:\n",
    "        choice = matched_songs.index[0]\n",
    "\n",
    "    idx = choice\n",
    "    sim_scores = cosine_similarity(tfidf_matrix[idx], tfidf_matrix).flatten()\n",
    "    sim_scores[idx] = -1\n",
    "    top_indices = sim_scores.argsort()[::-1][:5]\n",
    "\n",
    "    return df.iloc[top_indices][['artist', 'song', 'link']]\n",
    "\n",
    "# --- Streamlit App ---\n",
    "st.set_page_config(page_title=\"🎧 Song Recommender\", layout=\"centered\")\n",
    "\n",
    "st.title(\"🎵 Song Recommender\")\n",
    "st.write(\"Find similar songs based on lyrics!\")\n",
    "\n",
    "# Load data\n",
    "df = load_data()\n",
    "tfidf_matrix = compute_tfidf(df)\n",
    "\n",
    "# User Input\n",
    "user_input = st.text_input(\"Enter a song title\", \"\")\n",
    "\n",
    "if st.button(\"Get Recommendations\"):\n",
    "    if user_input.strip() == \"\":\n",
    "        st.warning(\"Please enter a song title.\")\n",
    "    else:\n",
    "        recs = get_recommendations(user_input, df, tfidf_matrix)\n",
    "        if recs is not None:\n",
    "            st.success(\"✅ Recommendations:\")\n",
    "            for i, row in recs.iterrows():\n",
    "                st.markdown(f\"**{row['song']}** by *{row['artist']}*  \\n[Lyrics]({row['link']})\")\n"
   ]
  },
  {
   "cell_type": "code",
   "execution_count": null,
   "id": "24a58939-d441-4d75-bdeb-947ff377f84a",
   "metadata": {},
   "outputs": [],
   "source": []
  }
 ],
 "metadata": {
  "kernelspec": {
   "display_name": "Python 3 (ipykernel)",
   "language": "python",
   "name": "python3"
  },
  "language_info": {
   "codemirror_mode": {
    "name": "ipython",
    "version": 3
   },
   "file_extension": ".py",
   "mimetype": "text/x-python",
   "name": "python",
   "nbconvert_exporter": "python",
   "pygments_lexer": "ipython3",
   "version": "3.12.4"
  }
 },
 "nbformat": 4,
 "nbformat_minor": 5
}
